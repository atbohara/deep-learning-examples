{
 "cells": [
  {
   "cell_type": "code",
   "execution_count": 1,
   "metadata": {},
   "outputs": [
    {
     "name": "stderr",
     "output_type": "stream",
     "text": [
      "Using TensorFlow backend.\n"
     ]
    }
   ],
   "source": [
    "from keras.datasets import imdb"
   ]
  },
  {
   "cell_type": "code",
   "execution_count": 2,
   "metadata": {},
   "outputs": [
    {
     "name": "stdout",
     "output_type": "stream",
     "text": [
      "Downloading data from https://s3.amazonaws.com/text-datasets/imdb.npz\n",
      "17465344/17464789 [==============================] - 1s 0us/step\n"
     ]
    }
   ],
   "source": [
    "# We only keep top 10,000 most frequently occurring words in the training data.\n",
    "(train_data, train_labels), (test_data, test_labels) = imdb.load_data(num_words=10000)"
   ]
  },
  {
   "cell_type": "code",
   "execution_count": 3,
   "metadata": {},
   "outputs": [
    {
     "name": "stdout",
     "output_type": "stream",
     "text": [
      "25000\n",
      "25000\n"
     ]
    }
   ],
   "source": [
    "print(train_data.shape[0])\n",
    "print(test_data.shape[0])\n",
    "# shape[1] is not fixed"
   ]
  },
  {
   "cell_type": "code",
   "execution_count": 4,
   "metadata": {},
   "outputs": [
    {
     "name": "stdout",
     "output_type": "stream",
     "text": [
      "218\n",
      "189\n",
      "141\n",
      "550\n",
      "147\n",
      "43\n",
      "123\n",
      "562\n",
      "233\n",
      "130\n"
     ]
    }
   ],
   "source": [
    "# Different reviews are of different lenghts.\n",
    "for seq in train_data[0:10]:\n",
    "    print(len(seq))"
   ]
  },
  {
   "cell_type": "code",
   "execution_count": 5,
   "metadata": {},
   "outputs": [
    {
     "name": "stdout",
     "output_type": "stream",
     "text": [
      "1\n"
     ]
    }
   ],
   "source": [
    "print(train_labels[0])"
   ]
  },
  {
   "cell_type": "code",
   "execution_count": 6,
   "metadata": {},
   "outputs": [
    {
     "name": "stdout",
     "output_type": "stream",
     "text": [
      "9999\n"
     ]
    }
   ],
   "source": [
    "print(max([max(sequence) for sequence in train_data]))"
   ]
  },
  {
   "cell_type": "code",
   "execution_count": 7,
   "metadata": {},
   "outputs": [
    {
     "name": "stdout",
     "output_type": "stream",
     "text": [
      "Downloading data from https://s3.amazonaws.com/text-datasets/imdb_word_index.json\n",
      "1646592/1641221 [==============================] - 0s 0us/step\n"
     ]
    }
   ],
   "source": [
    "word_index = imdb.get_word_index()\n",
    "reverse_word_index = dict(\n",
    "    [(value, key) for key, value in word_index.items()])"
   ]
  },
  {
   "cell_type": "code",
   "execution_count": 8,
   "metadata": {},
   "outputs": [
    {
     "name": "stdout",
     "output_type": "stream",
     "text": [
      "? big hair big boobs bad music and a giant safety pin these are the words to best describe this terrible movie i love cheesy horror movies and i've seen hundreds but this had got to be on of the worst ever made the plot is paper thin and ridiculous the acting is an abomination the script is completely laughable the best is the end showdown with the cop and how he worked out who the killer is it's just so damn terribly written the clothes are sickening and funny in equal ? the hair is big lots of boobs ? men wear those cut ? shirts that show off their ? sickening that men actually wore them and the music is just ? trash that plays over and over again in almost every scene there is trashy music boobs and ? taking away bodies and the gym still doesn't close for ? all joking aside this is a truly bad film whose only charm is to look back on the disaster that was the 80's and have a good old laugh at how bad everything was back then\n"
     ]
    }
   ],
   "source": [
    "decoded_review = ' '.join(\n",
    "[reverse_word_index.get(i - 3, '?') for i in train_data[1]])\n",
    "# Indices 0, 1, and 2 are reserved for “padding,” “start of sequence,” and “unknown.”.\n",
    "print(decoded_review)"
   ]
  },
  {
   "cell_type": "code",
   "execution_count": 9,
   "metadata": {},
   "outputs": [],
   "source": [
    "# Encoding the integer sequence into a binary matrix using one-hot encoding.\n",
    "import numpy as np\n",
    "def vectorize_sequences(sequences, dimensions=10000):\n",
    "    results = np.zeros((len(sequences), dimensions))\n",
    "    for i, sequence in enumerate(sequences):\n",
    "        results[i, sequence] = 1.  # Sequence is a list of integers.\n",
    "    return results"
   ]
  },
  {
   "cell_type": "code",
   "execution_count": 10,
   "metadata": {},
   "outputs": [],
   "source": [
    "x_train = vectorize_sequences(train_data)\n",
    "x_test = vectorize_sequences(test_data)"
   ]
  },
  {
   "cell_type": "code",
   "execution_count": 11,
   "metadata": {},
   "outputs": [],
   "source": [
    "y_train = np.asarray(train_labels).astype('float32')\n",
    "y_test = np.asarray(test_labels).astype('float32')"
   ]
  },
  {
   "cell_type": "code",
   "execution_count": 12,
   "metadata": {},
   "outputs": [],
   "source": [
    "from keras import models\n",
    "from keras import layers\n",
    "\n",
    "model = models.Sequential()\n",
    "model.add(layers.Dense(16, activation='relu', input_shape=(10000,)))\n",
    "model.add(layers.Dense(16, activation='relu'))\n",
    "model.add(layers.Dense(1, activation='sigmoid'))"
   ]
  },
  {
   "cell_type": "markdown",
   "metadata": {},
   "source": [
    "* 'relu' is the most popular activation function.\n",
    "* For a binary classification, the output should be a probability. That translates into a single unit with sigmoid activation.\n",
    "* For models that output probabilities, crossentropy is probably the best choice for loss function."
   ]
  },
  {
   "cell_type": "code",
   "execution_count": 13,
   "metadata": {},
   "outputs": [],
   "source": [
    "model.compile(optimizer='rmsprop',\n",
    "             loss='binary_crossentropy',\n",
    "             metrics=['accuracy'])"
   ]
  },
  {
   "cell_type": "code",
   "execution_count": 14,
   "metadata": {},
   "outputs": [],
   "source": [
    "# Setting aside a validation set.\n",
    "x_val = x_train[:10000]\n",
    "partial_x_train = x_train[10000:]\n",
    "y_val = y_train[:10000]\n",
    "partial_y_train = y_train[10000:]"
   ]
  },
  {
   "cell_type": "code",
   "execution_count": 15,
   "metadata": {
    "scrolled": true
   },
   "outputs": [
    {
     "name": "stdout",
     "output_type": "stream",
     "text": [
      "Train on 15000 samples, validate on 10000 samples\n",
      "Epoch 1/20\n",
      "15000/15000 [==============================] - 4s 247us/step - loss: 0.5323 - accuracy: 0.7838 - val_loss: 0.4115 - val_accuracy: 0.8702\n",
      "Epoch 2/20\n",
      "15000/15000 [==============================] - 3s 216us/step - loss: 0.3298 - accuracy: 0.8985 - val_loss: 0.3262 - val_accuracy: 0.8824\n",
      "Epoch 3/20\n",
      "15000/15000 [==============================] - 2s 128us/step - loss: 0.2386 - accuracy: 0.9246 - val_loss: 0.2892 - val_accuracy: 0.8896\n",
      "Epoch 4/20\n",
      "15000/15000 [==============================] - 2s 112us/step - loss: 0.1857 - accuracy: 0.9418 - val_loss: 0.2791 - val_accuracy: 0.8907\n",
      "Epoch 5/20\n",
      "15000/15000 [==============================] - 2s 111us/step - loss: 0.1511 - accuracy: 0.9533 - val_loss: 0.2821 - val_accuracy: 0.8879\n",
      "Epoch 6/20\n",
      "15000/15000 [==============================] - 2s 113us/step - loss: 0.1234 - accuracy: 0.9636 - val_loss: 0.3010 - val_accuracy: 0.8823\n",
      "Epoch 7/20\n",
      "15000/15000 [==============================] - 2s 114us/step - loss: 0.1034 - accuracy: 0.9690 - val_loss: 0.3356 - val_accuracy: 0.8795\n",
      "Epoch 8/20\n",
      "15000/15000 [==============================] - 2s 112us/step - loss: 0.0847 - accuracy: 0.9770 - val_loss: 0.3275 - val_accuracy: 0.8808\n",
      "Epoch 9/20\n",
      "15000/15000 [==============================] - 2s 110us/step - loss: 0.0700 - accuracy: 0.9811 - val_loss: 0.3648 - val_accuracy: 0.8792\n",
      "Epoch 10/20\n",
      "15000/15000 [==============================] - 2s 111us/step - loss: 0.0571 - accuracy: 0.9867 - val_loss: 0.3883 - val_accuracy: 0.8772\n",
      "Epoch 11/20\n",
      "15000/15000 [==============================] - 2s 109us/step - loss: 0.0486 - accuracy: 0.9884 - val_loss: 0.3985 - val_accuracy: 0.8784\n",
      "Epoch 12/20\n",
      "15000/15000 [==============================] - 2s 119us/step - loss: 0.0358 - accuracy: 0.9930 - val_loss: 0.4258 - val_accuracy: 0.8738\n",
      "Epoch 13/20\n",
      "15000/15000 [==============================] - 2s 113us/step - loss: 0.0317 - accuracy: 0.9937 - val_loss: 0.4620 - val_accuracy: 0.8732\n",
      "Epoch 14/20\n",
      "15000/15000 [==============================] - 2s 117us/step - loss: 0.0242 - accuracy: 0.9950 - val_loss: 0.4872 - val_accuracy: 0.8706\n",
      "Epoch 15/20\n",
      "15000/15000 [==============================] - 2s 117us/step - loss: 0.0170 - accuracy: 0.9978 - val_loss: 0.6595 - val_accuracy: 0.8585\n",
      "Epoch 16/20\n",
      "15000/15000 [==============================] - 2s 109us/step - loss: 0.0126 - accuracy: 0.9991 - val_loss: 0.5545 - val_accuracy: 0.8657\n",
      "Epoch 17/20\n",
      "15000/15000 [==============================] - 2s 111us/step - loss: 0.0128 - accuracy: 0.9985 - val_loss: 0.5896 - val_accuracy: 0.8679\n",
      "Epoch 18/20\n",
      "15000/15000 [==============================] - 2s 114us/step - loss: 0.0088 - accuracy: 0.9991 - val_loss: 0.6194 - val_accuracy: 0.8670\n",
      "Epoch 19/20\n",
      "15000/15000 [==============================] - 2s 111us/step - loss: 0.0081 - accuracy: 0.9985 - val_loss: 0.6560 - val_accuracy: 0.8625\n",
      "Epoch 20/20\n",
      "15000/15000 [==============================] - 2s 111us/step - loss: 0.0037 - accuracy: 0.9999 - val_loss: 0.6747 - val_accuracy: 0.8651\n"
     ]
    }
   ],
   "source": [
    "history = model.fit(partial_x_train,\n",
    "                   partial_y_train,\n",
    "                   epochs=20,\n",
    "                   batch_size=512,\n",
    "                   validation_data=(x_val,y_val))"
   ]
  },
  {
   "cell_type": "code",
   "execution_count": 16,
   "metadata": {},
   "outputs": [
    {
     "name": "stdout",
     "output_type": "stream",
     "text": [
      "dict_keys(['val_loss', 'val_accuracy', 'loss', 'accuracy'])\n"
     ]
    }
   ],
   "source": [
    "# Call to fit() returns the History object.\n",
    "history_dict = history.history\n",
    "print(history_dict.keys())"
   ]
  },
  {
   "cell_type": "code",
   "execution_count": 17,
   "metadata": {},
   "outputs": [
    {
     "data": {
      "image/png": "[encoded data removed]",
      "text/plain": [
       "<Figure size 432x288 with 1 Axes>"
      ]
     },
     "metadata": {
      "needs_background": "light"
     },
     "output_type": "display_data"
    }
   ],
   "source": [
    "# Plotting the training and validation loss.\n",
    "%matplotlib inline\n",
    "import matplotlib.pyplot as plt\n",
    "loss_values = history_dict['loss']\n",
    "val_loss_values = history_dict['val_loss']\n",
    "epochs = range(1, len(loss_values) + 1)\n",
    "plt.plot(epochs, loss_values, 'bo', label='Training loss')\n",
    "plt.plot(epochs, val_loss_values, 'b', label='Validaiton loss')\n",
    "plt.title('Training and validation loss')\n",
    "plt.xlabel('Epochs')\n",
    "plt.ylabel('Loss')\n",
    "plt.legend()\n",
    "plt.show()"
   ]
  },
  {
   "cell_type": "code",
   "execution_count": 19,
   "metadata": {},
   "outputs": [
    {
     "data": {
      "image/png": "[encoded data removed]",
      "text/plain": [
       "<Figure size 432x288 with 1 Axes>"
      ]
     },
     "metadata": {
      "needs_background": "light"
     },
     "output_type": "display_data"
    }
   ],
   "source": [
    "# Plotting the training and validation accuracy.\n",
    "plt.clf()\n",
    "acc_values = history_dict['accuracy']\n",
    "val_acc_values = history_dict['val_accuracy']\n",
    "plt.plot(epochs, acc_values, 'bo', label='Training acc')\n",
    "plt.plot(epochs, val_acc_values, 'b', label='Validation acc')\n",
    "plt.title('Training and validation accuracy')\n",
    "plt.xlabel('Epochs')\n",
    "plt.ylabel('Accuracy')\n",
    "plt.legend()\n",
    "plt.show()"
   ]
  },
  {
   "cell_type": "markdown",
   "metadata": {},
   "source": [
    "#### By analyzing the above plots, we can see that overfitting is happening:\n",
    "* Training loss and accuracy behave as expected with increasing training epochs.\n",
    "* However, the validation loss and accuracy don't behave as expected. They peak (min loss and max acc) around fourth epoch.\n",
    "* These points indicate that there is an overfitting situation: after second epoch, we are overoptimizing on the training data and we end up learning representations that are specific to training data and don't generalize to data outside the training set."
   ]
  },
  {
   "cell_type": "code",
   "execution_count": 20,
   "metadata": {},
   "outputs": [
    {
     "name": "stdout",
     "output_type": "stream",
     "text": [
      "Epoch 1/4\n",
      "25000/25000 [==============================] - 3s 117us/step - loss: 0.4677 - acc: 0.8144\n",
      "Epoch 2/4\n",
      "25000/25000 [==============================] - 2s 79us/step - loss: 0.2622 - acc: 0.9101\n",
      "Epoch 3/4\n",
      "25000/25000 [==============================] - 2s 62us/step - loss: 0.2001 - acc: 0.9290\n",
      "Epoch 4/4\n",
      "25000/25000 [==============================] - 2s 61us/step - loss: 0.1693 - acc: 0.9408\n",
      "25000/25000 [==============================] - 3s 123us/step\n",
      "[0.30226343146800994, 0.8820000290870667]\n"
     ]
    }
   ],
   "source": [
    "# Retraining the model from scratch.\n",
    "model = models.Sequential()\n",
    "model.add(layers.Dense(16, activation='relu', input_shape=(10000,)))\n",
    "model.add(layers.Dense(16, activation='relu'))\n",
    "model.add(layers.Dense(1, activation='sigmoid'))\n",
    "model.compile(optimizer='rmsprop',\n",
    "             loss='binary_crossentropy',\n",
    "             metrics=['acc'])\n",
    "# Now we use insights from above to train on complete training set.\n",
    "model.fit(x_train, y_train, epochs=4, batch_size=512)\n",
    "# Check the model performance on the test set.\n",
    "results=model.evaluate(x_test, y_test)\n",
    "print(results)"
   ]
  },
  {
   "cell_type": "markdown",
   "metadata": {},
   "source": [
    "#### As we see above, a fairly nive approach could achieve about 88% accuracy."
   ]
  },
  {
   "cell_type": "code",
   "execution_count": 21,
   "metadata": {},
   "outputs": [
    {
     "data": {
      "text/plain": [
       "array([[2.0051950e-01],\n",
       "       [9.9996424e-01],\n",
       "       [9.7730941e-01],\n",
       "       [9.0578473e-01],\n",
       "       [9.7343498e-01],\n",
       "       [9.2676616e-01],\n",
       "       [9.9988210e-01],\n",
       "       [1.4712099e-02],\n",
       "       [9.7972530e-01],\n",
       "       [9.9519205e-01],\n",
       "       [9.6467429e-01],\n",
       "       [1.6279843e-02],\n",
       "       [3.7428949e-04],\n",
       "       [7.4178286e-02],\n",
       "       [9.9858439e-01],\n",
       "       [7.6934212e-04],\n",
       "       [9.5227730e-01],\n",
       "       [7.8813708e-01],\n",
       "       [9.4993021e-03],\n",
       "       [5.5996925e-02],\n",
       "       [9.9879301e-01],\n",
       "       [9.9607629e-01],\n",
       "       [2.8552315e-01],\n",
       "       [9.5678514e-01],\n",
       "       [8.9507568e-01],\n",
       "       [9.9201035e-01],\n",
       "       [6.6148028e-02],\n",
       "       [9.2549294e-01],\n",
       "       [9.8731041e-01],\n",
       "       [1.1371028e-03],\n",
       "       [9.8948610e-01],\n",
       "       [2.0695540e-01],\n",
       "       [9.2397231e-01],\n",
       "       [2.7881502e-05],\n",
       "       [3.9041065e-02],\n",
       "       [2.5312848e-02],\n",
       "       [9.9949181e-01],\n",
       "       [9.7472972e-01],\n",
       "       [1.8805005e-01],\n",
       "       [1.8693117e-02],\n",
       "       [9.9521011e-01],\n",
       "       [9.9988580e-01],\n",
       "       [4.0498231e-02],\n",
       "       [9.4194174e-01],\n",
       "       [9.9995911e-01],\n",
       "       [9.6859992e-01],\n",
       "       [4.7553767e-02],\n",
       "       [1.9878519e-03],\n",
       "       [3.0537641e-02],\n",
       "       [5.8714908e-01],\n",
       "       [5.6685586e-03],\n",
       "       [3.5812628e-01],\n",
       "       [8.2064879e-01],\n",
       "       [9.7561884e-01],\n",
       "       [9.3433344e-01],\n",
       "       [5.5215293e-01],\n",
       "       [6.2059593e-01],\n",
       "       [8.4134430e-01],\n",
       "       [1.0161410e-02],\n",
       "       [6.7880696e-01],\n",
       "       [1.4379199e-01],\n",
       "       [1.3245903e-01],\n",
       "       [9.6110326e-01],\n",
       "       [5.9493121e-02],\n",
       "       [3.0669698e-02],\n",
       "       [9.9974734e-01],\n",
       "       [6.1762061e-02],\n",
       "       [9.8309636e-01],\n",
       "       [9.9922061e-01],\n",
       "       [9.5774555e-01],\n",
       "       [9.6292990e-01],\n",
       "       [9.9729127e-01],\n",
       "       [7.6985729e-01],\n",
       "       [3.7456650e-02],\n",
       "       [3.1523064e-02],\n",
       "       [3.6181170e-01],\n",
       "       [6.4654807e-03],\n",
       "       [9.5979494e-01],\n",
       "       [9.1477823e-01],\n",
       "       [7.4596472e-02],\n",
       "       [6.8058300e-01],\n",
       "       [2.6266134e-01],\n",
       "       [7.3801488e-01],\n",
       "       [8.4176320e-01],\n",
       "       [8.2541434e-03],\n",
       "       [5.8319075e-03],\n",
       "       [4.9286980e-02],\n",
       "       [9.3441314e-01],\n",
       "       [2.4666931e-02],\n",
       "       [9.2986190e-01],\n",
       "       [9.9993980e-01],\n",
       "       [6.1276299e-01],\n",
       "       [5.7559680e-02],\n",
       "       [9.9996042e-01],\n",
       "       [9.9986887e-01],\n",
       "       [1.4751472e-01],\n",
       "       [9.6182525e-01],\n",
       "       [9.8779500e-01],\n",
       "       [4.8483737e-02],\n",
       "       [1.3385466e-02]], dtype=float32)"
      ]
     },
     "execution_count": 21,
     "metadata": {},
     "output_type": "execute_result"
    }
   ],
   "source": [
    "# Using trained model to predict: generate likelihood of reviews being positive\n",
    "partial_x_test = x_test[:100]\n",
    "model.predict(partial_x_test)"
   ]
  },
  {
   "cell_type": "markdown",
   "metadata": {},
   "source": [
    "##### Takeaway from above numbers:\n",
    "Our model is confident about some examples, e.g., when the prediction output is 0.99 or 0.01. However, it is less confident when the output is 0.60 or 0.40 for example."
   ]
  }
 ],
 "metadata": {
  "kernelspec": {
   "display_name": "Python 3",
   "language": "python",
   "name": "python3"
  },
  "language_info": {
   "codemirror_mode": {
    "name": "ipython",
    "version": 3
   },
   "file_extension": ".py",
   "mimetype": "text/x-python",
   "name": "python",
   "nbconvert_exporter": "python",
   "pygments_lexer": "ipython3",
   "version": "3.7.5"
  }
 },
 "nbformat": 4,
 "nbformat_minor": 2
}
